{
  "nbformat": 4,
  "nbformat_minor": 0,
  "metadata": {
    "colab": {
      "provenance": []
    },
    "kernelspec": {
      "name": "python3",
      "display_name": "Python 3"
    },
    "language_info": {
      "name": "python"
    }
  },
  "cells": [
    {
      "cell_type": "markdown",
      "source": [
        "# **Question 3:**"
      ],
      "metadata": {
        "id": "-fc71rt1nUVt"
      }
    },
    {
      "cell_type": "markdown",
      "source": [
        "# Part 1)"
      ],
      "metadata": {
        "id": "yVs6f9hM49OX"
      }
    },
    {
      "cell_type": "markdown",
      "source": [
        "For calculating the cost of converting 2 words to each other, I start from the **last letters** of the words. There are 3 different cases that can happen:\n",
        "\n",
        "1) If the last characters of S1 and S2 are the **same**.\n",
        "\n",
        "In this case, nothing needs to be done, and we simply recur for the remaining substring **S1[n-1], S2[m-1]**, and the cost will be 0.\n",
        "\n",
        "2) If the last characters of S1 and S2 are **different**.\n",
        "\n",
        "In this case, we return the **minimum** of the 3 different operations:\n",
        "\n",
        "**Insertion**: Insert the last character of S2 into S1, which means we now we have S1[n], S2[m-1].\n",
        "\n",
        "**Deletion**: Delete the last character of S1, which means we now we have S1[n-1], S2[m].\n",
        "\n",
        "**Substitution**: Replace the current character of S1 by the current character of S2, which means we now we have S1[n-1], S2[m-1]. It is basically the same as the previous case, where the last two characters match, except it **costs an edit operation**.\n",
        "\n",
        "3) If substring S1(S2) is **empty**, insert all remaining characters of substring S2(S1) into S1(S2). The cost of this operation is equal to the **number of characters left** in substring S2(S1). "
      ],
      "metadata": {
        "id": "7p2Xz3TaLvWa"
      }
    },
    {
      "cell_type": "markdown",
      "source": [
        "When using dynamic programming, we solve a particular subproblem and store its result, which later on is used to solve the overall problem, So we would have a Matrix with the cost of different sub-sequence to get the overall solution.\n",
        "\n",
        "Also, by tracing the minimum cost from the last column of the last row to the first column of the first row we can get the operations that were performed to reach this minimum cost.\n",
        "\n",
        "So in conclusion, we first fill the memorization matrix in bottom up manner by considering the 3 cases mentioned above."
      ],
      "metadata": {
        "id": "WrElWsz42w2l"
      }
    },
    {
      "cell_type": "code",
      "source": [
        "def Min_Edit_Cost(m, n, S1, S2):\n",
        "\n",
        "    memorization = [[0 for i in range(n + 1)] for j in range(m + 1)]\n",
        "\n",
        "    for i in range(m + 1):\n",
        "        for j in range(n + 1):\n",
        "            if i == 0:\n",
        "                memorization[i][j] = j    \n",
        "                memorization[i][j] = i   \n",
        "\n",
        "            elif S1[i-1] == S2[j-1]:\n",
        "                memorization[i][j] = memorization[i-1][j-1]\n",
        " \n",
        "            else:\n",
        "                memorization[i][j] = min(1 + memorization[i][j-1],        # Insert\n",
        "                                         1 + memorization[i-1][j],        # Remove\n",
        "                                         2 + memorization[i-1][j-1])    # Replace\n",
        " \n",
        "    return memorization[m][n]"
      ],
      "metadata": {
        "id": "xjB4S3_tzvc0"
      },
      "execution_count": 7,
      "outputs": []
    },
    {
      "cell_type": "code",
      "source": [
        "S1 = 'index'\n",
        "S2 = 'inside'\n",
        "m = len(S1)\n",
        "n = len(S2)\n",
        "ans = Min_Edit_Cost(m, n, S1, S2)\n",
        "print('The Min Cost to convert these 2 words to each other = ', ans)"
      ],
      "metadata": {
        "colab": {
          "base_uri": "https://localhost:8080/"
        },
        "id": "4HwgMK1r-NI9",
        "outputId": "6179ce81-4fd6-4337-a91c-55ca1cceb54f"
      },
      "execution_count": 6,
      "outputs": [
        {
          "output_type": "stream",
          "name": "stdout",
          "text": [
            "The Min Cost to convert these 2 words to each other =  3\n"
          ]
        }
      ]
    },
    {
      "cell_type": "markdown",
      "source": [
        "# Part 2)"
      ],
      "metadata": {
        "id": "mSt6rJHDncYm"
      }
    },
    {
      "cell_type": "markdown",
      "source": [
        "In order to find the Longest Common Subsequent in 2 sequences, I use **top-down** dynamic programming with **memorization** to store the values of the previous subproblems.\n",
        "\n",
        "I start examining each of the sequences from their **last letter**. There are 2 cases:\n",
        "\n",
        "**1)** The last letter of the 2 words are **identical**. In this case, I store the value 1 for the length of the common subsequence, and move on to the letter before that and examine the new subsequence.\n",
        "\n",
        "**2)** The second case is when the last letter of the 2 words are **different**. In this case, I check two different subsequences. \n",
        "\n",
        "Considering length(S1) = n and length(S2) = m:\n",
        "\n",
        "First I check the Longest Common Subsequent between **S1[n-1] and S2[m]**, and the second, the Longest Common Subsequent between **S1[n] and S2[m-1]**. I return the **longer** subsequent in these 2 cases.\n",
        "\n",
        "This algorithm works recursively and since the same subproblems can get computed repeatedly, subproblem solutions are memoized rather than being computed everytime."
      ],
      "metadata": {
        "id": "dvpJSsBczBd7"
      }
    },
    {
      "cell_type": "code",
      "source": [
        "def Longest_Subsequence(S1, S2, len_s1, len_s2, memory_dict):\n",
        "\n",
        "    if len_s1 == 0 or len_s2 == 0:\n",
        "        return 0\n",
        "\n",
        "    sequence = (len_s1, len_s2)\n",
        "\n",
        "    if sequence not in memory_dict:\n",
        "\n",
        "        if S1[len_s1 - 1] == S2[len_s2 - 1]:\n",
        "            memory_dict[sequence] = Longest_Subsequence(S1, S2, len_s1 - 1, len_s2 - 1, memory_dict) + 1\n",
        "\n",
        "        else:\n",
        "            memory_dict[sequence] = max(Longest_Subsequence(S1, S2, len_s1, len_s2 - 1, memory_dict),\n",
        "                            Longest_Subsequence(S1, S2, len_s1 - 1, len_s2, memory_dict))\n",
        " \n",
        "    return memory_dict[sequence]"
      ],
      "metadata": {
        "id": "14SPn2Tzn1of"
      },
      "execution_count": null,
      "outputs": []
    },
    {
      "cell_type": "markdown",
      "source": [
        "I define an empty dictionary 'memory_dict' to store a key for each of the sequences the algorithm finds **(memorization)**, and run the above function. Checking the function for the given sequences in the question:"
      ],
      "metadata": {
        "id": "xtAeiw914Tgz"
      }
    },
    {
      "cell_type": "code",
      "source": [
        "S1 = 'abdacbab'\n",
        "S2 = 'acfbeca'\n",
        "memory_dict = {}\n",
        "Solution = Longest_Subsequence(S1, S2, len(S1), len(S2), memory_dict)\n",
        "print('Length of the longest common sequence between S1 and S2 = ', Solution)"
      ],
      "metadata": {
        "colab": {
          "base_uri": "https://localhost:8080/"
        },
        "id": "O-2eDoZmn1LH",
        "outputId": "108f6c70-ea9a-44bc-bd2a-9dbe0d5d243f"
      },
      "execution_count": null,
      "outputs": [
        {
          "output_type": "stream",
          "name": "stdout",
          "text": [
            "Length of the longest common sequence between S1 and S2 =  4\n"
          ]
        }
      ]
    }
  ]
}